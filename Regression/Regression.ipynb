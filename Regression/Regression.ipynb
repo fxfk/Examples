{
 "cells": [
  {
   "cell_type": "markdown",
   "id": "b3e8e1b0",
   "metadata": {},
   "source": [
    "# Regression\n",
    "\n",
    "## Load useful packages"
   ]
  },
  {
   "cell_type": "markdown",
   "id": "c16ee2cf",
   "metadata": {},
   "source": [
    "Before we start, let's load some packages: [numpy](https://numpy.org) (for matrix manipulations), [cvxpy](https://www.cvxpy.org) (convex optimisation) and [matplotlib](https://matplotlib.org) (plotting).\n",
    "\n",
    "Note: if you are using anaconda python you may not have cvxpy installed by default. Install it using the command ``conda install -c conda-forge cvxpy``. You may also need to install matplotlib using ``conda install matplotlib``."
   ]
  },
  {
   "cell_type": "code",
   "execution_count": 20,
   "id": "cee7b98f",
   "metadata": {},
   "outputs": [
    {
     "ename": "SyntaxError",
     "evalue": "invalid syntax (1349515475.py, line 1)",
     "output_type": "error",
     "traceback": [
      "\u001b[1;36m  Input \u001b[1;32mIn [20]\u001b[1;36m\u001b[0m\n\u001b[1;33m    python3 -m pip install cvxpy\u001b[0m\n\u001b[1;37m               ^\u001b[0m\n\u001b[1;31mSyntaxError\u001b[0m\u001b[1;31m:\u001b[0m invalid syntax\n"
     ]
    }
   ],
   "source": [
    "python3 -m pip install cvxpy\n",
    "from cvxpy import *"
   ]
  },
  {
   "cell_type": "code",
   "execution_count": 11,
   "id": "fa912aa8",
   "metadata": {},
   "outputs": [],
   "source": [
    "\n",
    "import numpy as np\n",
    "\n",
    "import matplotlib.pyplot as plt\n",
    "%matplotlib inline\n"
   ]
  },
  {
   "cell_type": "markdown",
   "id": "5d78f3ac",
   "metadata": {},
   "source": [
    "## Analysing a dataset\n",
    "\n",
    "Imagine we have some data taken from an experiment and we would like to find a model that fits the data well.\n",
    "\n",
    "Here is some data I took earlier. Can you figure out a good model for this data? How would you verify that your model is a good fit for the data?"
   ]
  },
  {
   "cell_type": "code",
   "execution_count": 12,
   "id": "d1318e89",
   "metadata": {},
   "outputs": [],
   "source": [
    "data = np.array([\n",
    " [0.0, 3.35982],\n",
    " [0.5, 4.45784],\n",
    " [1.0, 4.98725],\n",
    " [1.5, 5.92751],\n",
    " [2.0, 6.99903],\n",
    " [2.5, 8.37272],\n",
    " [3.0, 9.22212],\n",
    " [3.5, 9.72170],\n",
    " [4.0, 11.0244],\n",
    " [4.5, 11.7995],\n",
    " [5.0, 13.0831]])"
   ]
  },
  {
   "cell_type": "markdown",
   "id": "583e1c76",
   "metadata": {},
   "source": [
    "The first thing we should do is try to plot the data to see if we can recognise anything"
   ]
  },
  {
   "cell_type": "code",
   "execution_count": 13,
   "id": "658ff4bd",
   "metadata": {},
   "outputs": [
    {
     "data": {
      "image/png": "[encoded data removed]",
      "text/plain": [
       "<Figure size 432x288 with 1 Axes>"
      ]
     },
     "metadata": {
      "needs_background": "light"
     },
     "output_type": "display_data"
    }
   ],
   "source": [
    "p1 = plt.plot(data[:,0],data[:,1],'o')\n",
    "plt.xlabel('x')\n",
    "plt.ylabel('y')\n",
    "plt.show()"
   ]
  },
  {
   "cell_type": "markdown",
   "id": "583231f7",
   "metadata": {},
   "source": [
    "If we have a good idea for a model that might fit the data, then we can use *regression* to look for the parameters that best fit the data. This looks like the plot of a straight line, $y(x)= a x + b$ so let's try to fit a linear model of that form to the data. To do so, we can we can use our data samples to write an (overdetermined) linear system of equations $ X \\beta = y$ where\n",
    "$$ X = \\begin{pmatrix} 1 & x_1 \\\\ \\vdots & \\vdots \\\\ 1 & x_n \\end{pmatrix}, \\quad y = \\begin{pmatrix} y(x_1) \\\\ \\vdots \\\\ y(x_n) \\end{pmatrix}, \\quad \\beta = \\begin{pmatrix} a \\\\ b \\end{pmatrix}$$\n",
    "This does not have a solution because it is an overdetermined system, or equivalently because the points don't all sit exactly on a line. Instead, we can try to find the line that \"best\" fits the data. If we define \"best\" to mean the line that minimises the square of the 2-norm $||X\\beta - y||^2$ then this leads us to regression, in which we instead solve the system $X^T X \\beta = X^T y$, which does have a solution for $\\alpha$ and $\\beta$.\n",
    "\n",
    "To formulate this as an optimisation problem, consider the system of equations:\n",
    "$$ y = X \\begin{pmatrix} \\alpha \\\\ \\beta \\end{pmatrix} + \\epsilon$$\n",
    "where $\\epsilon$ is a vector of vertical distances of the points from the best fit line.\n",
    "Then, the optimisation problem is\n",
    "$$\\min_{\\beta} || \\epsilon ||^2$$"
   ]
  },
  {
   "cell_type": "markdown",
   "id": "9e8559f5",
   "metadata": {},
   "source": [
    "## Tasks\n",
    "\n",
    "1. Solve this using gradient descent with the optimal step-size.\n",
    "2. Solve this problem using cvxpy."
   ]
  },
  {
   "cell_type": "markdown",
   "id": "1d54aeac",
   "metadata": {},
   "source": [
    "X=A, y=b"
   ]
  },
  {
   "cell_type": "code",
   "execution_count": 17,
   "id": "feb0e415",
   "metadata": {},
   "outputs": [
    {
     "ename": "ValueError",
     "evalue": "matmul: Input operand 1 has a mismatch in its core dimension 0, with gufunc signature (n?,k),(k,m?)->(n?,m?) (size 11 is different from 2)",
     "output_type": "error",
     "traceback": [
      "\u001b[1;31m-------------------------------------------------------------------------\u001b[0m",
      "\u001b[1;31mValueError\u001b[0m                              Traceback (most recent call last)",
      "Input \u001b[1;32mIn [17]\u001b[0m, in \u001b[0;36m<cell line: 4>\u001b[1;34m()\u001b[0m\n\u001b[0;32m      2\u001b[0m b\u001b[38;5;241m=\u001b[39mnp\u001b[38;5;241m.\u001b[39mtranspose(A)[\u001b[38;5;241m1\u001b[39m]\n\u001b[0;32m      3\u001b[0m xn\u001b[38;5;241m=\u001b[39mnp\u001b[38;5;241m.\u001b[39mtranspose(A)[\u001b[38;5;241m0\u001b[39m]\n\u001b[1;32m----> 4\u001b[0m r\u001b[38;5;241m=\u001b[39mnp\u001b[38;5;241m.\u001b[39mtranspose(A)\u001b[38;5;241m@\u001b[39m(b\u001b[38;5;241m-\u001b[39m\u001b[43mA\u001b[49m\u001b[38;5;129;43m@xn\u001b[39;49m)\n",
      "\u001b[1;31mValueError\u001b[0m: matmul: Input operand 1 has a mismatch in its core dimension 0, with gufunc signature (n?,k),(k,m?)->(n?,m?) (size 11 is different from 2)"
     ]
    }
   ],
   "source": [
    "A=data#first row should be ones\n",
    "beta0=[0,0]\n",
    "b=np.transpose(A)[1]\n",
    "xn=np.transpose(A)[0]\n",
    "r=np.transpose(A)@(b-A@xn)"
   ]
  },
  {
   "cell_type": "code",
   "execution_count": 19,
   "id": "fea64b4e",
   "metadata": {},
   "outputs": [
    {
     "data": {
      "text/plain": [
       "array([[ 0.     ,  3.35982],\n",
       "       [ 0.5    ,  4.45784],\n",
       "       [ 1.     ,  4.98725],\n",
       "       [ 1.5    ,  5.92751],\n",
       "       [ 2.     ,  6.99903],\n",
       "       [ 2.5    ,  8.37272],\n",
       "       [ 3.     ,  9.22212],\n",
       "       [ 3.5    ,  9.7217 ],\n",
       "       [ 4.     , 11.0244 ],\n",
       "       [ 4.5    , 11.7995 ],\n",
       "       [ 5.     , 13.0831 ]])"
      ]
     },
     "execution_count": 19,
     "metadata": {},
     "output_type": "execute_result"
    }
   ],
   "source": [
    "r0=XT@y-X@beta"
   ]
  },
  {
   "cell_type": "code",
   "execution_count": null,
   "id": "7315c224",
   "metadata": {},
   "outputs": [],
   "source": [
    "alpha=(np.linalg.norm(r0)/np.linalg.norm(X@r0))**2"
   ]
  },
  {
   "cell_type": "code",
   "execution_count": null,
   "id": "3a97d3e2",
   "metadata": {},
   "outputs": [],
   "source": [
    "beta1=beta0-alpha0-XT(@X@beta0-y)"
   ]
  },
  {
   "cell_type": "code",
   "execution_count": null,
   "id": "d544bed1",
   "metadata": {},
   "outputs": [],
   "source": []
  }
 ],
 "metadata": {
  "kernelspec": {
   "display_name": "Python 3 (ipykernel)",
   "language": "python",
   "name": "python3"
  },
  "language_info": {
   "codemirror_mode": {
    "name": "ipython",
    "version": 3
   },
   "file_extension": ".py",
   "mimetype": "text/x-python",
   "name": "python",
   "nbconvert_exporter": "python",
   "pygments_lexer": "ipython3",
   "version": "3.9.12"
  }
 },
 "nbformat": 4,
 "nbformat_minor": 5
}
